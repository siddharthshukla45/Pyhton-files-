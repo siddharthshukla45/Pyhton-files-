{
 "cells": [
  {
   "cell_type": "markdown",
   "id": "28d82acd-9b5b-4e6e-a9ff-5c3d2bb5e06a",
   "metadata": {},
   "source": [
    "# Hello world "
   ]
  },
  {
   "cell_type": "code",
   "execution_count": 4,
   "id": "5dc9ae9b-0aaa-4d4a-b3f7-ae6d0416445a",
   "metadata": {},
   "outputs": [
    {
     "name": "stdout",
     "output_type": "stream",
     "text": [
      "hello world\n"
     ]
    }
   ],
   "source": [
    "#prinmting my first message \n",
    "print(\"hello world\")"
   ]
  },
  {
   "cell_type": "code",
   "execution_count": 6,
   "id": "4dbec544-0f8f-4ff8-8327-628c20a5e2ec",
   "metadata": {},
   "outputs": [
    {
     "data": {
      "text/plain": [
       "'hello world'"
      ]
     },
     "execution_count": 6,
     "metadata": {},
     "output_type": "execute_result"
    }
   ],
   "source": [
    "\"hello world\""
   ]
  },
  {
   "cell_type": "code",
   "execution_count": 8,
   "id": "d24e87a7-546d-4197-ab98-3d663439c2d7",
   "metadata": {},
   "outputs": [
    {
     "name": "stdout",
     "output_type": "stream",
     "text": [
      "Siddharth Shukla\n"
     ]
    }
   ],
   "source": [
    "#  printing my name \n",
    "print(\"Siddharth Shukla\")"
   ]
  },
  {
   "cell_type": "code",
   "execution_count": 10,
   "id": "10a89e0b-d078-4168-8d47-97e050518b2f",
   "metadata": {},
   "outputs": [
    {
     "name": "stdout",
     "output_type": "stream",
     "text": [
      "26\n"
     ]
    }
   ],
   "source": [
    "print(26)"
   ]
  },
  {
   "cell_type": "markdown",
   "id": "78f4e5c5-b395-4427-9714-21266e059fab",
   "metadata": {},
   "source": [
    "# datatype"
   ]
  },
  {
   "cell_type": "code",
   "execution_count": 12,
   "id": "72dcddad-42ee-482f-b4bc-a630197dd428",
   "metadata": {},
   "outputs": [
    {
     "data": {
      "text/plain": [
       "bool"
      ]
     },
     "execution_count": 12,
     "metadata": {},
     "output_type": "execute_result"
    }
   ],
   "source": [
    "type(True)"
   ]
  },
  {
   "cell_type": "code",
   "execution_count": 14,
   "id": "84fe3b17-6d8c-4bfe-b219-8d78f19736a6",
   "metadata": {},
   "outputs": [
    {
     "data": {
      "text/plain": [
       "bool"
      ]
     },
     "execution_count": 14,
     "metadata": {},
     "output_type": "execute_result"
    }
   ],
   "source": [
    "type(False)"
   ]
  },
  {
   "cell_type": "code",
   "execution_count": 16,
   "id": "3d68c397-c535-4f2a-b82f-60f124087762",
   "metadata": {},
   "outputs": [
    {
     "data": {
      "text/plain": [
       "int"
      ]
     },
     "execution_count": 16,
     "metadata": {},
     "output_type": "execute_result"
    }
   ],
   "source": [
    "type(4)"
   ]
  },
  {
   "cell_type": "code",
   "execution_count": 18,
   "id": "1a06792e-fed1-4500-b350-be1c48d94975",
   "metadata": {},
   "outputs": [
    {
     "data": {
      "text/plain": [
       "str"
      ]
     },
     "execution_count": 18,
     "metadata": {},
     "output_type": "execute_result"
    }
   ],
   "source": [
    "type(\"hello world\")"
   ]
  },
  {
   "cell_type": "code",
   "execution_count": 20,
   "id": "2c721aba-b9eb-4558-a313-17642613c1b2",
   "metadata": {},
   "outputs": [
    {
     "data": {
      "text/plain": [
       "'HELLO WORLD'"
      ]
     },
     "execution_count": 20,
     "metadata": {},
     "output_type": "execute_result"
    }
   ],
   "source": [
    "\"hello world\".upper()"
   ]
  },
  {
   "cell_type": "code",
   "execution_count": 30,
   "id": "f7f84908-33bd-41ff-bc6c-afb63b88272c",
   "metadata": {},
   "outputs": [
    {
     "name": "stdout",
     "output_type": "stream",
     "text": [
      "Hello World\n",
      "hello world\n"
     ]
    }
   ],
   "source": [
    "print(\"hello world\".title())\n",
    "print(\"Hello world\".lower())"
   ]
  },
  {
   "cell_type": "code",
   "execution_count": 34,
   "id": "32a17e32-8403-41aa-a759-46a685008e2d",
   "metadata": {},
   "outputs": [
    {
     "data": {
      "text/plain": [
       "3"
      ]
     },
     "execution_count": 34,
     "metadata": {},
     "output_type": "execute_result"
    }
   ],
   "source": [
    "\"hello world\".count('l')"
   ]
  },
  {
   "cell_type": "code",
   "execution_count": 38,
   "id": "12940499-ef8b-4fd3-a6d4-b7f7f6dad9e6",
   "metadata": {},
   "outputs": [
    {
     "data": {
      "text/plain": [
       "'heuuo worud'"
      ]
     },
     "execution_count": 38,
     "metadata": {},
     "output_type": "execute_result"
    }
   ],
   "source": [
    "\"hello world\".replace('l','u')"
   ]
  },
  {
   "cell_type": "markdown",
   "id": "30b93a73-7029-4634-83dc-de61271efa5a",
   "metadata": {},
   "source": [
    "# 3.variables"
   ]
  },
  {
   "cell_type": "code",
   "execution_count": 44,
   "id": "1338932f-4a43-4eb9-92f2-e6bfe0c38cb8",
   "metadata": {},
   "outputs": [
    {
     "name": "stdout",
     "output_type": "stream",
     "text": [
      "i'm learning python\n"
     ]
    }
   ],
   "source": [
    "#assigning the value to a variable  \n",
    "message_1 = \"i'm learning python\"\n",
    "print(message_1)"
   ]
  },
  {
   "cell_type": "code",
   "execution_count": 3,
   "id": "9572df4f-09c6-462e-b57b-75bbc4aee136",
   "metadata": {},
   "outputs": [
    {
     "name": "stdout",
     "output_type": "stream",
     "text": [
      "And it;s going to be intresteing \n"
     ]
    }
   ],
   "source": [
    "message_2=\"And it;s going to be intresteing \"\n",
    "print(message_2)"
   ]
  },
  {
   "cell_type": "code",
   "execution_count": 29,
   "id": "3343dbed-4080-4703-b89e-429f1dc6e64f",
   "metadata": {},
   "outputs": [
    {
     "name": "stdout",
     "output_type": "stream",
     "text": [
      "i'm learning python And it's going to be intresteing \n"
     ]
    },
    {
     "data": {
      "text/plain": [
       "\"i'm learning python now And it's going to be intresteing \""
      ]
     },
     "execution_count": 29,
     "metadata": {},
     "output_type": "execute_result"
    }
   ],
   "source": [
    "#joining 2 strings \n",
    "message_1 = \"i'm learning python\"\n",
    "message_2=\"And it's going to be intresteing \"\n",
    "message=message_1+' '+ message_2\n",
    "print(message)\n",
    "f'{message_1} now {message_2}'"
   ]
  },
  {
   "cell_type": "markdown",
   "id": "67b07a23-1362-4086-9970-fb7533988c45",
   "metadata": {},
   "source": [
    "# List "
   ]
  },
  {
   "cell_type": "code",
   "execution_count": 61,
   "id": "61bb092a-4e20-417b-97aa-606eac748823",
   "metadata": {},
   "outputs": [
    {
     "name": "stdout",
     "output_type": "stream",
     "text": [
      "extracting countries with the help of index\n",
      "India\n",
      "Russia\n",
      "china\n",
      "united states\n",
      "united states\n",
      "['India', 'Russia', 'china']\n",
      "['India', 'Russia']\n"
     ]
    }
   ],
   "source": [
    "countries=['India','Russia','china','united states' ]\n",
    "countries\n",
    "# now we are going to do indexing to obtain partcular elements\n",
    "print(\"extracting countries with the help of index\")\n",
    "print(countries[0])# o is the index of india \n",
    "print(countries[1])\n",
    "print(countries[2])\n",
    "print(countries[3])\n",
    "print(countries[-1])\n",
    "\n",
    "#now we are going  to do slicing\n",
    "#list_name[start:stop]\n",
    "print(countries[0:3])\n",
    "print(countries[:2])"
   ]
  },
  {
   "cell_type": "markdown",
   "id": "38d2c9b1-7ae6-4ed8-ae14-77ce5b0d85cf",
   "metadata": {},
   "source": [
    "# Adding elemnts to a list "
   ]
  },
  {
   "cell_type": "code",
   "execution_count": 92,
   "id": "e139e39d-a010-453b-8af2-7e375ddb810f",
   "metadata": {},
   "outputs": [
    {
     "name": "stdout",
     "output_type": "stream",
     "text": [
      "['india', 'russia', 'china', 'united states']\n",
      "None\n",
      "countries with new added elemnts \n",
      "['india', 'russia', 'china', 'united states', 'brazil']\n",
      "spain is added at the index 1\n",
      "['india', 'spain', 'russia', 'china', 'united states', 'brazil']\n",
      "joining 2 list \n",
      "[['india', 'spain', 'russia', 'china', 'united states', 'brazil'], ['uk', 'germany', 'africa']]\n"
     ]
    }
   ],
   "source": [
    "countries=['india','russia','china','united states']\n",
    "print(countries)\n",
    "#to add item in a list \n",
    "print(countries.append('brazil'))\n",
    "print(\"countries with new added elemnts \")\n",
    "print(countries)\n",
    "#adding element at different position \n",
    "print(\"spain is added at the index 1\") \n",
    "countries.insert(1,'spain')\n",
    "print(countries)\n",
    "#creating new list \n",
    "countries_2=['uk','germany','africa']\n",
    "print(\"joining 2 list \")\n",
    "countries + countries_2\n",
    "\n",
    "#now creating a new list as nested list \n",
    "nested_list=[countries,countries_2]\n",
    "print(nested_list)\n"
   ]
  },
  {
   "cell_type": "markdown",
   "id": "280ddd62-a269-417e-918b-bcbeb82d448d",
   "metadata": {},
   "source": [
    "# removing an elemnts\n",
    "             "
   ]
  },
  {
   "cell_type": "code",
   "execution_count": 108,
   "id": "4aace697-134c-43ef-aae6-f7a72dc2a6ac",
   "metadata": {},
   "outputs": [
    {
     "name": "stdout",
     "output_type": "stream",
     "text": [
      "['India', 'Russia', 'china']\n",
      "['India', 'Russia']\n",
      "['Russia']\n"
     ]
    }
   ],
   "source": [
    "countries=['India','Russia','china','united states']\n",
    "#using remove method here \n",
    "countries.remove('united states')\n",
    "print(countries)\n",
    "#using pop () methid \n",
    "countries.pop(-1)\n",
    "print(countries)\n",
    "#using del function \n",
    "del countries[0]\n",
    "print(countries)"
   ]
  },
  {
   "cell_type": "markdown",
   "id": "cc528f3a-b80e-4e6b-94c5-60dd25a58bf9",
   "metadata": {},
   "source": [
    "# sorting a list "
   ]
  },
  {
   "cell_type": "code",
   "execution_count": 137,
   "id": "c97c4f54-85f4-48d4-984b-5b1ed1114813",
   "metadata": {},
   "outputs": [
    {
     "name": "stdout",
     "output_type": "stream",
     "text": [
      "ascending orders [1, 2, 3, 4, 10, 11, 12]\n",
      "descending orderr  [12, 11, 10, 4, 3, 2, 1]\n",
      "12 is ereplaced with the value 1000 [1000, 11, 10, 4, 3, 2, 1]\n",
      "copying a list numbers [1000, 11, 10, 4, 3, 2, 1]\n",
      "using copy methid to copy a list  [1000, 11, 10, 4, 3, 2, 1]\n"
     ]
    }
   ],
   "source": [
    "numbers=[4,3,12,10,11,2,1]\n",
    "#here by default it can sort it in ascending order \n",
    "numbers.sort()\n",
    "print(\"ascending orders\",numbers)\n",
    "# here it will sort this from largest to smallest \n",
    "numbers.sort(reverse=True)\n",
    "print(\"descending orderr \",numbers)\n",
    "#update elemnt in a list \n",
    "numbers[0]=1000\n",
    "print(\"12 is ereplaced with the value 1000\",numbers)\n",
    "#copying a list \n",
    "new_list=numbers[:]\n",
    "print(\"copying a list numbers\",new_list)\n",
    "#another way to copy a list  using copy ()\n",
    "new_list2=numbers.copy()\n",
    "print(\"using copy methid to copy a list \",new_list2)\n"
   ]
  },
  {
   "cell_type": "markdown",
   "id": "6d7069c8-eeb8-48bd-a589-021b05fb6076",
   "metadata": {},
   "source": [
    "## Dictionary"
   ]
  },
  {
   "cell_type": "code",
   "execution_count": 186,
   "id": "63a8e4e4-5b68-4712-bba1-d067a6d20cc1",
   "metadata": {},
   "outputs": [
    {
     "name": "stdout",
     "output_type": "stream",
     "text": [
      "{'name': 'siddharth shukla', 'age': 21}\n",
      "dict_keys(['name', 'age'])\n",
      "dict_values(['siddharth shukla', 21])\n",
      "dict_items([('name', 'siddharth shukla'), ('age', 21)])\n",
      "{'name': 'siddharth shukla', 'age': 21, 'height': 1.7}\n",
      "{'name': 'siddharth shukla', 'age': 21, 'height': 1.9}\n",
      "{'name': 'siddharth shukla', 'age': 21, 'height': 1.9}\n",
      "{'age': 21, 'height': 1.9}\n",
      "{'height': 1.9}\n",
      "{}\n"
     ]
    }
   ],
   "source": [
    "# my_dict={'key1':'value1','key2':'value2'}\n",
    "# print(my_dict)\n",
    "my_data={'name':'siddharth shukla','age':21,}\n",
    "print(my_data)\n",
    "print(my_data.keys())  \n",
    "print(my_data.values())    \n",
    "print(my_data.items())\n",
    "# adding  new keys to my ductionary \n",
    "my_data['height']=1.7\n",
    "print(my_data)\n",
    "\n",
    "#updating height \n",
    "my_data.update({'height':1.9})\n",
    "print(my_data)\n",
    "#copy of a dictionary \n",
    "new_dict=my_data.copy()\n",
    "print(new_dict)\n",
    "#remove elemnts from dictionary \n",
    "my_data.pop('name')\n",
    "print(my_data)\n",
    "del my_data['age']\n",
    "print(my_data)\n",
    "#clearing evry thing from dictionary \n",
    "my_data.clear()\n",
    "print(my_data)"
   ]
  },
  {
   "cell_type": "markdown",
   "id": "bb440b09-64a9-4025-98eb-9331c9b9c935",
   "metadata": {},
   "source": [
    "# if statement "
   ]
  },
  {
   "cell_type": "code",
   "execution_count": 197,
   "id": "10c44a70-f203-4ff1-bdac-62dea1d5b75f",
   "metadata": {},
   "outputs": [
    {
     "name": "stdin",
     "output_type": "stream",
     "text": [
      "enter the age =  27\n"
     ]
    },
    {
     "name": "stdout",
     "output_type": "stream",
     "text": [
      "eligible to vote \n"
     ]
    }
   ],
   "source": [
    "age=int(input(\"enter the age = \"))\n",
    "if age>=18:\n",
    "    print('eligible to vote ')\n",
    "elif age>=18 & age>=25:\n",
    "    print('you can contest election ')\n",
    "else :\n",
    "    print('not ligible to vote')"
   ]
  },
  {
   "cell_type": "markdown",
   "id": "236cfacf-9240-4b80-8d83-1f188514bc47",
   "metadata": {},
   "source": [
    "# for loop "
   ]
  },
  {
   "cell_type": "code",
   "execution_count": null,
   "id": "3606d9d7-7cd5-4d71-8606-1fd8cc6e8033",
   "metadata": {},
   "outputs": [],
   "source": [
    "for <variable> in <list>:\n",
    "    <code>"
   ]
  },
  {
   "cell_type": "code",
   "execution_count": 33,
   "id": "df32ee24-e801-45da-806d-ed13d9a37c74",
   "metadata": {},
   "outputs": [
    {
     "name": "stdout",
     "output_type": "stream",
     "text": [
      "0\n",
      "India\n",
      "1\n",
      "Russia\n",
      "2\n",
      "china\n",
      "3\n",
      "united states\n"
     ]
    }
   ],
   "source": [
    "countries=['India','Russia','china','united states']\n",
    "for i,country in enumerate(countries):\n",
    "    print(i)\n",
    "    print(country)\n",
    "   \n"
   ]
  },
  {
   "cell_type": "code",
   "execution_count": 13,
   "id": "f570a5d3-0cd1-42bd-b4ac-f97ecb65dbfb",
   "metadata": {},
   "outputs": [
    {
     "name": "stdout",
     "output_type": "stream",
     "text": [
      "{'name': 'siddharth shukla', 'age': 21}\n",
      "name\n",
      "siddharth shukla\n",
      "age\n",
      "21\n"
     ]
    }
   ],
   "source": [
    "my_data={'name':'siddharth shukla','age':21,}\n",
    "print(my_data)\n",
    "for key ,value in my_data.items():\n",
    "    print(key)\n",
    "    print(value)"
   ]
  },
  {
   "cell_type": "markdown",
   "id": "5b9bbfd2-85ce-43d9-a32a-8972d778a3f4",
   "metadata": {},
   "source": [
    "#  function"
   ]
  },
  {
   "cell_type": "code",
   "execution_count": null,
   "id": "d3ce1ecd-7165-4290-92c3-ad7c08ff9879",
   "metadata": {},
   "outputs": [],
   "source": [
    "def function(<params>):\n",
    "    <code>\n",
    "    retrun<data>\n",
    "    "
   ]
  },
  {
   "cell_type": "code",
   "execution_count": 40,
   "id": "1ba8da20-399b-4f54-a871-2a88ac746b52",
   "metadata": {},
   "outputs": [
    {
     "data": {
      "text/plain": [
       "4"
      ]
     },
     "execution_count": 40,
     "metadata": {},
     "output_type": "execute_result"
    }
   ],
   "source": [
    "def sum_values(a, b):# here paramerter is given \n",
    "    x=a+b\n",
    "    return x \n",
    "sum_values(1,3)# here we are calling a function "
   ]
  },
  {
   "cell_type": "markdown",
   "id": "e0221540-16d5-451f-b07d-fea341d30b59",
   "metadata": {},
   "source": [
    "# built in functions "
   ]
  },
  {
   "cell_type": "code",
   "execution_count": 43,
   "id": "38ca0fe4-5160-4358-9842-c10946095543",
   "metadata": {},
   "outputs": [
    {
     "name": "stdout",
     "output_type": "stream",
     "text": [
      "length of countries  4\n"
     ]
    }
   ],
   "source": [
    "countries=['India','Russia','china','united states']\n",
    "print(\"length of countries \",len(countries))"
   ]
  },
  {
   "cell_type": "code",
   "execution_count": 47,
   "id": "3c06af59-215c-4743-9adc-258ce2ee3d50",
   "metadata": {},
   "outputs": [
    {
     "name": "stdout",
     "output_type": "stream",
     "text": [
      "maximum value of the elements inside teh list  26\n"
     ]
    }
   ],
   "source": [
    "numbers=[10,23,24,25,26]\n",
    "print( \"maximum value of the elements inside teh list \", max(numbers))"
   ]
  },
  {
   "cell_type": "code",
   "execution_count": 49,
   "id": "b5ec0259-fa88-42d7-8e74-2f7def9d4a30",
   "metadata": {},
   "outputs": [
    {
     "name": "stdout",
     "output_type": "stream",
     "text": [
      "minimum value of the elements inside teh list  10\n"
     ]
    }
   ],
   "source": [
    "numbers=[10,23,24,25,26]\n",
    "print( \"minimum value of the elements inside teh list \", min(numbers))"
   ]
  },
  {
   "cell_type": "code",
   "execution_count": 51,
   "id": "8af40a88-da59-4751-853d-e73f991491e1",
   "metadata": {},
   "outputs": [
    {
     "data": {
      "text/plain": [
       "list"
      ]
     },
     "execution_count": 51,
     "metadata": {},
     "output_type": "execute_result"
    }
   ],
   "source": [
    "numbers=[10,23,24,25,26]\n",
    "type(countries )"
   ]
  },
  {
   "cell_type": "code",
   "execution_count": 63,
   "id": "668aedcf-57a4-4f06-ade4-c4c8238b33a8",
   "metadata": {},
   "outputs": [
    {
     "name": "stdout",
     "output_type": "stream",
     "text": [
      "0\n",
      "1\n"
     ]
    }
   ],
   "source": [
    "\n",
    "for i in range(0,2):\n",
    "    print(i)"
   ]
  },
  {
   "cell_type": "markdown",
   "id": "afb8e2af-5651-43c7-9ba0-3148e797b99b",
   "metadata": {},
   "source": [
    "# Module"
   ]
  },
  {
   "cell_type": "code",
   "execution_count": 103,
   "id": "2211376d-7712-4a10-8eb0-9007c7d2936e",
   "metadata": {},
   "outputs": [
    {
     "ename": "SyntaxError",
     "evalue": "invalid syntax (4117984695.py, line 1)",
     "output_type": "error",
     "traceback": [
      "\u001b[1;36m  Cell \u001b[1;32mIn[103], line 1\u001b[1;36m\u001b[0m\n\u001b[1;33m    import\u001b[0m\n\u001b[1;37m          ^\u001b[0m\n\u001b[1;31mSyntaxError\u001b[0m\u001b[1;31m:\u001b[0m invalid syntax\n"
     ]
    }
   ],
   "source": [
    "import\n"
   ]
  },
  {
   "cell_type": "markdown",
   "id": "c00cda0a-ea5b-446d-baff-28e21b4f24d2",
   "metadata": {},
   "source": [
    "# os module "
   ]
  },
  {
   "cell_type": "code",
   "execution_count": 111,
   "id": "4796329a-5125-4a29-92b2-ddebb67524bc",
   "metadata": {},
   "outputs": [],
   "source": [
    "import os \n"
   ]
  },
  {
   "cell_type": "code",
   "execution_count": 113,
   "id": "295c4a32-ba95-4443-91e9-740c206bbd49",
   "metadata": {},
   "outputs": [
    {
     "data": {
      "text/plain": [
       "'C:\\\\Users\\\\hp\\\\anaconda_projects\\\\db'"
      ]
     },
     "execution_count": 113,
     "metadata": {},
     "output_type": "execute_result"
    }
   ],
   "source": [
    "os.getcwd()"
   ]
  },
  {
   "cell_type": "code",
   "execution_count": 115,
   "id": "9fa5887b-9d98-4671-a9ca-614399790dbe",
   "metadata": {},
   "outputs": [
    {
     "data": {
      "text/plain": [
       "['.ipynb_checkpoints', 'project_filebrowser.db', 'pyhton1.ipynb']"
      ]
     },
     "execution_count": 115,
     "metadata": {},
     "output_type": "execute_result"
    }
   ],
   "source": [
    "os.listdir()"
   ]
  },
  {
   "cell_type": "code",
   "execution_count": 133,
   "id": "e1408682-0b8d-4a25-9be5-232ab62f9e3b",
   "metadata": {},
   "outputs": [
    {
     "ename": "FileExistsError",
     "evalue": "[WinError 183] Cannot create a file when that file already exists: 'New Folder'",
     "output_type": "error",
     "traceback": [
      "\u001b[1;31m---------------------------------------------------------------------------\u001b[0m",
      "\u001b[1;31mFileExistsError\u001b[0m                           Traceback (most recent call last)",
      "Cell \u001b[1;32mIn[133], line 1\u001b[0m\n\u001b[1;32m----> 1\u001b[0m os\u001b[38;5;241m.\u001b[39mmakedirs(\u001b[38;5;124m\"\u001b[39m\u001b[38;5;124mNew Folder\u001b[39m\u001b[38;5;124m\"\u001b[39m)\n",
      "File \u001b[1;32m<frozen os>:225\u001b[0m, in \u001b[0;36mmakedirs\u001b[1;34m(name, mode, exist_ok)\u001b[0m\n",
      "\u001b[1;31mFileExistsError\u001b[0m: [WinError 183] Cannot create a file when that file already exists: 'New Folder'"
     ]
    }
   ],
   "source": [
    "os.makedirs(\"New Folder\")"
   ]
  },
  {
   "cell_type": "code",
   "execution_count": 135,
   "id": "7c2fb19c-ccd6-4163-8b65-b4e85b30dc45",
   "metadata": {},
   "outputs": [
    {
     "data": {
      "text/plain": [
       "['.ipynb_checkpoints', 'New Folder', 'project_filebrowser.db', 'pyhton1.ipynb']"
      ]
     },
     "execution_count": 135,
     "metadata": {},
     "output_type": "execute_result"
    }
   ],
   "source": [
    "os.listdir()"
   ]
  },
  {
   "cell_type": "code",
   "execution_count": null,
   "id": "c726fe35-f8b9-4ff1-8804-c870f4dc01cc",
   "metadata": {},
   "outputs": [],
   "source": []
  }
 ],
 "metadata": {
  "kernelspec": {
   "display_name": "Python [conda env:base] *",
   "language": "python",
   "name": "conda-base-py"
  },
  "language_info": {
   "codemirror_mode": {
    "name": "ipython",
    "version": 3
   },
   "file_extension": ".py",
   "mimetype": "text/x-python",
   "name": "python",
   "nbconvert_exporter": "python",
   "pygments_lexer": "ipython3",
   "version": "3.12.7"
  }
 },
 "nbformat": 4,
 "nbformat_minor": 5
}
